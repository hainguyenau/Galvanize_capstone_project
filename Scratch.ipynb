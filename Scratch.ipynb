{
 "cells": [
  {
   "cell_type": "code",
   "execution_count": 1,
   "metadata": {
    "collapsed": true
   },
   "outputs": [],
   "source": [
    "import numpy as np\n",
    "import xml.etree.ElementTree as ET\n",
    "from sklearn.cluster import KMeans\n",
    "from nltk.corpus import wordnet\n",
    "from sklearn.feature_extraction.text import TfidfVectorizer\n",
    "from nltk import word_tokenize\n",
    "import pickle"
   ]
  },
  {
   "cell_type": "code",
   "execution_count": 36,
   "metadata": {
    "collapsed": true
   },
   "outputs": [],
   "source": [
    "def read_train_data(word, pos):\n",
    "    folder = None\n",
    "    if pos == 'n':\n",
    "        folder = 'nouns/'\n",
    "    elif pos == 'v':\n",
    "        folder = 'verbs/'\n",
    "    path = 'training_data/' + folder+ word +'.'+ pos + '.xml'\n",
    "    tree = ET.parse(path)\n",
    "    root = tree.getroot()\n",
    "    documents = list(elem.text for elem in list(root))\n",
    "    return documents"
   ]
  },
  {
   "cell_type": "code",
   "execution_count": 40,
   "metadata": {
    "collapsed": false
   },
   "outputs": [],
   "source": [
    "train = read_train_data('bow','v')"
   ]
  },
  {
   "cell_type": "code",
   "execution_count": 41,
   "metadata": {
    "collapsed": false
   },
   "outputs": [
    {
     "data": {
      "text/plain": [
       "'He explains that during his first visit to the Zendo , Fischer was told by Dainin Katagiri Roshi ( d.1990 ) to make full prostrations towards the Buddha image on the altar. He asked Katagiri-roshi , \" Why do we bow. \" Katagiri showed him a tiny image of the Buddha bowing to the ground. \" If he can do it , you can do it , \" he said. Fischer thought that was reasonable. Katagiri explained that \" bowing is mutual , just one bow , bowing back and forth. \" '"
      ]
     },
     "execution_count": 41,
     "metadata": {},
     "output_type": "execute_result"
    }
   ],
   "source": [
    "train[0]"
   ]
  },
  {
   "cell_type": "code",
   "execution_count": null,
   "metadata": {
    "collapsed": true
   },
   "outputs": [],
   "source": []
  }
 ],
 "metadata": {
  "kernelspec": {
   "display_name": "Python [Root]",
   "language": "python",
   "name": "Python [Root]"
  },
  "language_info": {
   "codemirror_mode": {
    "name": "ipython",
    "version": 2
   },
   "file_extension": ".py",
   "mimetype": "text/x-python",
   "name": "python",
   "nbconvert_exporter": "python",
   "pygments_lexer": "ipython2",
   "version": "2.7.12"
  }
 },
 "nbformat": 4,
 "nbformat_minor": 0
}
