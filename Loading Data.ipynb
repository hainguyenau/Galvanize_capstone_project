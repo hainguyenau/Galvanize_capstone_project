{
 "cells": [
  {
   "cell_type": "code",
   "execution_count": 1,
   "metadata": {
    "collapsed": true
   },
   "outputs": [],
   "source": [
    "import numpy as np\n",
    "import pandas as pd\n",
    "import re\n",
    "from sklearn.feature_extraction.text import TfidfVectorizer\n",
    "from collections import defaultdict"
   ]
  },
  {
   "cell_type": "code",
   "execution_count": 7,
   "metadata": {
    "collapsed": true
   },
   "outputs": [],
   "source": [
    "def load_data(filename):\n",
    "    with open('new_train/{}'.format(filename)) as f:\n",
    "        d = defaultdict(list)\n",
    "\n",
    "\n",
    "        for line in f.readlines():\n",
    "            m = re.search(\"<s>(.*)<\\/s>\", line)\n",
    "            if m:\n",
    "                m2 = re.search(\"<tag \\\"(.*)\\\">(.*)<\\/>\", line)\n",
    "                if m2:\n",
    "                    meaning = m2.group(1)\n",
    "                    word = m2.group(2)\n",
    "                    sentence = m.group(1)\n",
    "                    sentence = sentence.replace('<s>', '')\n",
    "                    sentence = sentence.replace('</s>', '')\n",
    "                    sentence = sentence.replace('<p>', '')\n",
    "                    sentence = sentence.replace('</p>', '')\n",
    "                    sentence = sentence.replace('<@>', '')\n",
    "                    sentence = sentence.replace(m2.group(0), '')\n",
    "                    d[meaning].append(sentence)\n",
    "    return d"
   ]
  },
  {
   "cell_type": "code",
   "execution_count": 13,
   "metadata": {
    "collapsed": true
   },
   "outputs": [],
   "source": [
    "d = load_data('line.cor')"
   ]
  },
  {
   "cell_type": "code",
   "execution_count": 14,
   "metadata": {
    "collapsed": false
   },
   "outputs": [
    {
     "name": "stdout",
     "output_type": "stream",
     "text": [
      "['cord', 'division', 'product', 'text', 'phone', 'formation']\n"
     ]
    }
   ],
   "source": [
    "print d.keys()"
   ]
  },
  {
   "cell_type": "code",
   "execution_count": null,
   "metadata": {
    "collapsed": true
   },
   "outputs": [],
   "source": [
    "# Open \"line\"\n",
    "with open('new_train/line.cor') as f:\n",
    "    d = {'HARD1':[], 'HARD2':[], 'HARD3':[]}\n",
    "    \n",
    "    for line in f.readlines():\n",
    "        m = re.search(\"<s>(.*)<\\/s>\", line)\n",
    "        if m:\n",
    "            m2 = re.search(\"<tag \\\"(.*)\\\">(.*)<\\/>\", line)\n",
    "            if m2:\n",
    "                meaning = m2.group(1)\n",
    "                word = m2.group(2)\n",
    "                sentence = m.group(1)\n",
    "                sentence = sentence.replace('<s>', '')\n",
    "                sentence = sentence.replace('</s>', '')\n",
    "                sentence = sentence.replace('<p>', '')\n",
    "                sentence = sentence.replace('</p>', '')\n",
    "                sentence = sentence.replace('<@>', '')\n",
    "                sentence = sentence.replace(m2.group(0), '')\n",
    "                d[meaning].append(sentence)"
   ]
  }
 ],
 "metadata": {
  "kernelspec": {
   "display_name": "Python 2",
   "language": "python",
   "name": "python2"
  },
  "language_info": {
   "codemirror_mode": {
    "name": "ipython",
    "version": 2
   },
   "file_extension": ".py",
   "mimetype": "text/x-python",
   "name": "python",
   "nbconvert_exporter": "python",
   "pygments_lexer": "ipython2",
   "version": "2.7.12"
  }
 },
 "nbformat": 4,
 "nbformat_minor": 0
}
