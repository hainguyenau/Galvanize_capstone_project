{
 "cells": [
  {
   "cell_type": "code",
   "execution_count": 2,
   "metadata": {
    "collapsed": false
   },
   "outputs": [],
   "source": [
    "import numpy as np\n",
    "import pandas as pd\n",
    "import matplotlib.pyplot as plt\n",
    "%matplotlib inline"
   ]
  },
  {
   "cell_type": "code",
   "execution_count": 4,
   "metadata": {
    "collapsed": false
   },
   "outputs": [
    {
     "data": {
      "text/plain": [
       "(3216, 3)"
      ]
     },
     "execution_count": 4,
     "metadata": {},
     "output_type": "execute_result"
    }
   ],
   "source": [
    "df = pd.read_csv('realDonaldTrump_tweets.csv')\n",
    "df.shape"
   ]
  },
  {
   "cell_type": "code",
   "execution_count": 5,
   "metadata": {
    "collapsed": false
   },
   "outputs": [
    {
     "data": {
      "text/html": [
       "<div>\n",
       "<table border=\"1\" class=\"dataframe\">\n",
       "  <thead>\n",
       "    <tr style=\"text-align: right;\">\n",
       "      <th></th>\n",
       "      <th>id</th>\n",
       "      <th>created_at</th>\n",
       "      <th>text</th>\n",
       "    </tr>\n",
       "  </thead>\n",
       "  <tbody>\n",
       "    <tr>\n",
       "      <th>0</th>\n",
       "      <td>777616135856545792</td>\n",
       "      <td>2016-09-18 21:11:48</td>\n",
       "      <td>HAPPY BIRTHDAY - to the United States Air Forc...</td>\n",
       "    </tr>\n",
       "    <tr>\n",
       "      <th>1</th>\n",
       "      <td>777615824848912384</td>\n",
       "      <td>2016-09-18 21:10:34</td>\n",
       "      <td>RT @KellyannePolls: This updates @Reuters/Ipso...</td>\n",
       "    </tr>\n",
       "    <tr>\n",
       "      <th>2</th>\n",
       "      <td>777614991121846278</td>\n",
       "      <td>2016-09-18 21:07:15</td>\n",
       "      <td>RT @KellyannePolls: #polls, continued. Hillary...</td>\n",
       "    </tr>\n",
       "    <tr>\n",
       "      <th>3</th>\n",
       "      <td>777614946951696384</td>\n",
       "      <td>2016-09-18 21:07:05</td>\n",
       "      <td>RT @KellyannePolls: more media #polls showing ...</td>\n",
       "    </tr>\n",
       "    <tr>\n",
       "      <th>4</th>\n",
       "      <td>777494113834917888</td>\n",
       "      <td>2016-09-18 13:06:56</td>\n",
       "      <td>I would like to express my warmest regards, be...</td>\n",
       "    </tr>\n",
       "  </tbody>\n",
       "</table>\n",
       "</div>"
      ],
      "text/plain": [
       "                   id           created_at  \\\n",
       "0  777616135856545792  2016-09-18 21:11:48   \n",
       "1  777615824848912384  2016-09-18 21:10:34   \n",
       "2  777614991121846278  2016-09-18 21:07:15   \n",
       "3  777614946951696384  2016-09-18 21:07:05   \n",
       "4  777494113834917888  2016-09-18 13:06:56   \n",
       "\n",
       "                                                text  \n",
       "0  HAPPY BIRTHDAY - to the United States Air Forc...  \n",
       "1  RT @KellyannePolls: This updates @Reuters/Ipso...  \n",
       "2  RT @KellyannePolls: #polls, continued. Hillary...  \n",
       "3  RT @KellyannePolls: more media #polls showing ...  \n",
       "4  I would like to express my warmest regards, be...  "
      ]
     },
     "execution_count": 5,
     "metadata": {},
     "output_type": "execute_result"
    }
   ],
   "source": [
    "df.head()"
   ]
  }
 ],
 "metadata": {
  "kernelspec": {
   "display_name": "Python [Root]",
   "language": "python",
   "name": "Python [Root]"
  },
  "language_info": {
   "codemirror_mode": {
    "name": "ipython",
    "version": 2
   },
   "file_extension": ".py",
   "mimetype": "text/x-python",
   "name": "python",
   "nbconvert_exporter": "python",
   "pygments_lexer": "ipython2",
   "version": "2.7.12"
  }
 },
 "nbformat": 4,
 "nbformat_minor": 0
}
