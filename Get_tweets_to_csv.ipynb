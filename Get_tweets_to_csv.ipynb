{
 "cells": [
  {
   "cell_type": "code",
   "execution_count": 1,
   "metadata": {
    "collapsed": true
   },
   "outputs": [],
   "source": [
    "import tweepy\n",
    "import csv\n",
    "import pandas as pd\n",
    "import numpy as np"
   ]
  },
  {
   "cell_type": "code",
   "execution_count": 2,
   "metadata": {
    "collapsed": true
   },
   "outputs": [],
   "source": [
    "#Twitter API credentials\n",
    "consumer_key = \"hAkEve0OPJP3d9ZgEOsa4l61w\"\n",
    "consumer_secret = \"t01binEUXrl9aupnq9DaatfZvJCFxBJwMGL7XfEnhb00Nu6RdX\"\n",
    "access_key = \"777643491031560192-EEq7JrT2v0gnPElCceYjiH01IudSXo5\"\n",
    "access_secret = \"IiF9ZABmVb7wT4Z7Dlk29TEABZLTV5Bd0ND4eOlXOtJFm\""
   ]
  },
  {
   "cell_type": "code",
   "execution_count": 3,
   "metadata": {
    "collapsed": true
   },
   "outputs": [],
   "source": [
    "def get_all_tweets(screen_name):\n",
    "    #Twitter only allows access to a users most recent 3240 tweets with this method\n",
    "\n",
    "    #authorize twitter, initialize tweepy\n",
    "    auth = tweepy.OAuthHandler(consumer_key, consumer_secret)\n",
    "    auth.set_access_token(access_key, access_secret)\n",
    "    api = tweepy.API(auth)\n",
    "\n",
    "    #initialize a list to hold all the tweepy Tweets\n",
    "    alltweets = []\n",
    "\n",
    "    #make initial request for most recent tweets (200 is the maximum allowed count)\n",
    "    new_tweets = api.user_timeline(screen_name = screen_name,count=200)\n",
    "\n",
    "    #save most recent tweets\n",
    "    alltweets.extend(new_tweets)\n",
    "\n",
    "    #save the id of the oldest tweet less one\n",
    "    oldest = alltweets[-1].id - 1\n",
    "\n",
    "    #keep grabbing tweets until there are no tweets left to grab\n",
    "    while len(new_tweets) > 0:\n",
    "        print \"getting tweets before %s\" % (oldest)\n",
    "\n",
    "        #all subsiquent requests use the max_id param to prevent duplicates\n",
    "        new_tweets = api.user_timeline(screen_name = screen_name,count=200,max_id=oldest)\n",
    "\n",
    "        #save most recent tweets\n",
    "        alltweets.extend(new_tweets)\n",
    "\n",
    "        #update the id of the oldest tweet less one\n",
    "        oldest = alltweets[-1].id - 1\n",
    "\n",
    "        print \"...%s tweets downloaded so far\" % (len(alltweets))\n",
    "\n",
    "    #transform the tweepy tweets into a 2D array that will populate the csv\n",
    "    outtweets = [[tweet.id_str, tweet.created_at, tweet.text.encode(\"utf-8\")] for tweet in alltweets]\n",
    "\n",
    "    #write the csv\n",
    "    with open('%s_tweets.csv' % screen_name, 'wb') as f:\n",
    "        writer = csv.writer(f)\n",
    "        writer.writerow([\"id\",\"created_at\",\"text\"])\n",
    "        writer.writerows(outtweets)\n",
    "\n",
    "    pass"
   ]
  },
  {
   "cell_type": "code",
   "execution_count": 8,
   "metadata": {
    "collapsed": false
   },
   "outputs": [
    {
     "name": "stdout",
     "output_type": "stream",
     "text": [
      "getting tweets before 769552592158412799\n",
      "...400 tweets downloaded so far\n",
      "getting tweets before 761281473492189183\n",
      "...600 tweets downloaded so far\n",
      "getting tweets before 756866912848584703\n",
      "...800 tweets downloaded so far\n",
      "getting tweets before 748869825208913920\n",
      "...1000 tweets downloaded so far\n",
      "getting tweets before 741286391200505856\n",
      "...1200 tweets downloaded so far\n",
      "getting tweets before 734365143635759103\n",
      "...1400 tweets downloaded so far\n",
      "getting tweets before 728725098409164800\n",
      "...1600 tweets downloaded so far\n",
      "getting tweets before 721450217384579075\n",
      "...1800 tweets downloaded so far\n",
      "getting tweets before 713558941662322687\n",
      "...2000 tweets downloaded so far\n",
      "getting tweets before 708800227994537983\n",
      "...2200 tweets downloaded so far\n",
      "getting tweets before 704019808363352068\n",
      "...2400 tweets downloaded so far\n",
      "getting tweets before 700779489907892224\n",
      "...2599 tweets downloaded so far\n",
      "getting tweets before 696217877679108095\n",
      "...2799 tweets downloaded so far\n",
      "getting tweets before 691838442536333312\n",
      "...2999 tweets downloaded so far\n",
      "getting tweets before 687360898491625471\n",
      "...3199 tweets downloaded so far\n",
      "getting tweets before 682188516986646527\n",
      "...3216 tweets downloaded so far\n",
      "getting tweets before 681816443093159936\n",
      "...3216 tweets downloaded so far\n"
     ]
    }
   ],
   "source": [
    "get_all_tweets('realDonaldTrump')"
   ]
  },
  {
   "cell_type": "code",
   "execution_count": 4,
   "metadata": {
    "collapsed": false
   },
   "outputs": [
    {
     "data": {
      "text/html": [
       "<div>\n",
       "<table border=\"1\" class=\"dataframe\">\n",
       "  <thead>\n",
       "    <tr style=\"text-align: right;\">\n",
       "      <th></th>\n",
       "      <th>id</th>\n",
       "      <th>created_at</th>\n",
       "      <th>text</th>\n",
       "    </tr>\n",
       "  </thead>\n",
       "  <tbody>\n",
       "    <tr>\n",
       "      <th>0</th>\n",
       "      <td>777616135856545792</td>\n",
       "      <td>2016-09-18 21:11:48</td>\n",
       "      <td>HAPPY BIRTHDAY - to the United States Air Forc...</td>\n",
       "    </tr>\n",
       "    <tr>\n",
       "      <th>1</th>\n",
       "      <td>777615824848912384</td>\n",
       "      <td>2016-09-18 21:10:34</td>\n",
       "      <td>RT @KellyannePolls: This updates @Reuters/Ipso...</td>\n",
       "    </tr>\n",
       "    <tr>\n",
       "      <th>2</th>\n",
       "      <td>777614991121846278</td>\n",
       "      <td>2016-09-18 21:07:15</td>\n",
       "      <td>RT @KellyannePolls: #polls, continued. Hillary...</td>\n",
       "    </tr>\n",
       "    <tr>\n",
       "      <th>3</th>\n",
       "      <td>777614946951696384</td>\n",
       "      <td>2016-09-18 21:07:05</td>\n",
       "      <td>RT @KellyannePolls: more media #polls showing ...</td>\n",
       "    </tr>\n",
       "    <tr>\n",
       "      <th>4</th>\n",
       "      <td>777494113834917888</td>\n",
       "      <td>2016-09-18 13:06:56</td>\n",
       "      <td>I would like to express my warmest regards, be...</td>\n",
       "    </tr>\n",
       "  </tbody>\n",
       "</table>\n",
       "</div>"
      ],
      "text/plain": [
       "                   id           created_at  \\\n",
       "0  777616135856545792  2016-09-18 21:11:48   \n",
       "1  777615824848912384  2016-09-18 21:10:34   \n",
       "2  777614991121846278  2016-09-18 21:07:15   \n",
       "3  777614946951696384  2016-09-18 21:07:05   \n",
       "4  777494113834917888  2016-09-18 13:06:56   \n",
       "\n",
       "                                                text  \n",
       "0  HAPPY BIRTHDAY - to the United States Air Forc...  \n",
       "1  RT @KellyannePolls: This updates @Reuters/Ipso...  \n",
       "2  RT @KellyannePolls: #polls, continued. Hillary...  \n",
       "3  RT @KellyannePolls: more media #polls showing ...  \n",
       "4  I would like to express my warmest regards, be...  "
      ]
     },
     "execution_count": 4,
     "metadata": {},
     "output_type": "execute_result"
    }
   ],
   "source": [
    "df = pd.read_csv('realDonaldTrump_tweets.csv')\n",
    "df.head()"
   ]
  },
  {
   "cell_type": "code",
   "execution_count": 5,
   "metadata": {
    "collapsed": false
   },
   "outputs": [
    {
     "data": {
      "text/plain": [
       "(3216, 3)"
      ]
     },
     "execution_count": 5,
     "metadata": {},
     "output_type": "execute_result"
    }
   ],
   "source": [
    "df.shape"
   ]
  }
 ],
 "metadata": {
  "kernelspec": {
   "display_name": "Python [Root]",
   "language": "python",
   "name": "Python [Root]"
  },
  "language_info": {
   "codemirror_mode": {
    "name": "ipython",
    "version": 2
   },
   "file_extension": ".py",
   "mimetype": "text/x-python",
   "name": "python",
   "nbconvert_exporter": "python",
   "pygments_lexer": "ipython2",
   "version": "2.7.12"
  }
 },
 "nbformat": 4,
 "nbformat_minor": 0
}
