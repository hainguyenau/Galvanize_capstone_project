{
 "cells": [
  {
   "cell_type": "code",
   "execution_count": 8,
   "metadata": {
    "collapsed": true
   },
   "outputs": [],
   "source": [
    "import tweepy\n",
    "import csv\n",
    "import pandas as pd\n",
    "import numpy as np"
   ]
  },
  {
   "cell_type": "code",
   "execution_count": 4,
   "metadata": {
    "collapsed": false
   },
   "outputs": [],
   "source": [
    "with open('/home/misa/Documents/Twitter.txt') as f:\n",
    "    lines = f.readlines()\n",
    "    consumer_key = lines[0].split('=')[1].strip()\n",
    "    consumer_secret = lines[1].split('=')[1].strip()\n",
    "    access_key = lines[2].split('=')[1].strip()\n",
    "    access_secret = lines[3].split('=')[1].strip()"
   ]
  },
  {
   "cell_type": "code",
   "execution_count": 5,
   "metadata": {
    "collapsed": true
   },
   "outputs": [],
   "source": [
    "#Twitter API credentials\n",
    "consumer_key = \"hAkEve0OPJP3d9ZgEOsa4l61w\"\n",
    "consumer_secret = \"t01binEUXrl9aupnq9DaatfZvJCFxBJwMGL7XfEnhb00Nu6RdX\"\n",
    "access_key = \"777643491031560192-EEq7JrT2v0gnPElCceYjiH01IudSXo5\"\n",
    "access_secret = \"IiF9ZABmVb7wT4Z7Dlk29TEABZLTV5Bd0ND4eOlXOtJFm\""
   ]
  },
  {
   "cell_type": "code",
   "execution_count": 9,
   "metadata": {
    "collapsed": true
   },
   "outputs": [],
   "source": [
    "def get_all_tweets(screen_name):\n",
    "    #Twitter only allows access to a users most recent 3240 tweets with this method\n",
    "\n",
    "    #authorize twitter, initialize tweepy\n",
    "    auth = tweepy.OAuthHandler(consumer_key, consumer_secret)\n",
    "    auth.set_access_token(access_key, access_secret)\n",
    "    api = tweepy.API(auth)\n",
    "\n",
    "    #initialize a list to hold all the tweepy Tweets\n",
    "    alltweets = []\n",
    "\n",
    "    #make initial request for most recent tweets (200 is the maximum allowed count)\n",
    "    new_tweets = api.user_timeline(screen_name = screen_name,count=200)\n",
    "\n",
    "    #save most recent tweets\n",
    "    alltweets.extend(new_tweets)\n",
    "\n",
    "    #save the id of the oldest tweet less one\n",
    "    oldest = alltweets[-1].id - 1\n",
    "\n",
    "    #keep grabbing tweets until there are no tweets left to grab\n",
    "    while len(new_tweets) > 0:\n",
    "        print \"getting tweets before %s\" % (oldest)\n",
    "\n",
    "        #all subsiquent requests use the max_id param to prevent duplicates\n",
    "        new_tweets = api.user_timeline(screen_name = screen_name,count=200,max_id=oldest)\n",
    "\n",
    "        #save most recent tweets\n",
    "        alltweets.extend(new_tweets)\n",
    "\n",
    "        #update the id of the oldest tweet less one\n",
    "        oldest = alltweets[-1].id - 1\n",
    "\n",
    "        print \"...%s tweets downloaded so far\" % (len(alltweets))\n",
    "\n",
    "    #transform the tweepy tweets into a 2D array that will populate the csv\n",
    "    outtweets = [[tweet.id_str, tweet.created_at, tweet.text.encode(\"utf-8\")] for tweet in alltweets]\n",
    "\n",
    "    #write the csv\n",
    "    with open('%s_tweets.csv' % screen_name, 'wb') as f:\n",
    "        writer = csv.writer(f)\n",
    "        writer.writerow([\"id\",\"created_at\",\"text\"])\n",
    "        writer.writerows(outtweets)\n",
    "\n",
    "    pass"
   ]
  },
  {
   "cell_type": "code",
   "execution_count": 10,
   "metadata": {
    "collapsed": false
   },
   "outputs": [
    {
     "name": "stdout",
     "output_type": "stream",
     "text": [
      "getting tweets before 770021252002119679\n",
      "...400 tweets downloaded so far\n",
      "getting tweets before 761711856457125887\n",
      "...600 tweets downloaded so far\n",
      "getting tweets before 757187537681154047\n",
      "...800 tweets downloaded so far\n",
      "getting tweets before 749261175968436223\n",
      "...1000 tweets downloaded so far\n",
      "getting tweets before 741696814194274303\n",
      "...1200 tweets downloaded so far\n",
      "getting tweets before 734892328637325311\n",
      "...1400 tweets downloaded so far\n",
      "getting tweets before 729291290848956415\n",
      "...1600 tweets downloaded so far\n",
      "getting tweets before 721805701325172735\n",
      "...1800 tweets downloaded so far\n",
      "getting tweets before 714093135857631231\n",
      "...2000 tweets downloaded so far\n",
      "getting tweets before 709168272059535359\n",
      "...2200 tweets downloaded so far\n",
      "getting tweets before 704339457974132735\n",
      "...2400 tweets downloaded so far\n",
      "getting tweets before 701044235764502527\n",
      "...2599 tweets downloaded so far\n",
      "getting tweets before 696285038644764672\n",
      "...2799 tweets downloaded so far\n",
      "getting tweets before 691967215097221119\n",
      "...2999 tweets downloaded so far\n",
      "getting tweets before 687727739516891135\n",
      "...3199 tweets downloaded so far\n",
      "getting tweets before 682428536855117824\n",
      "...3228 tweets downloaded so far\n",
      "getting tweets before 681816443093159936\n",
      "...3228 tweets downloaded so far\n"
     ]
    }
   ],
   "source": [
    "get_all_tweets('realDonaldTrump')"
   ]
  },
  {
   "cell_type": "code",
   "execution_count": 11,
   "metadata": {
    "collapsed": false
   },
   "outputs": [
    {
     "data": {
      "text/html": [
       "<div>\n",
       "<table border=\"1\" class=\"dataframe\">\n",
       "  <thead>\n",
       "    <tr style=\"text-align: right;\">\n",
       "      <th></th>\n",
       "      <th>id</th>\n",
       "      <th>created_at</th>\n",
       "      <th>text</th>\n",
       "    </tr>\n",
       "  </thead>\n",
       "  <tbody>\n",
       "    <tr>\n",
       "      <th>0</th>\n",
       "      <td>778027605572329472</td>\n",
       "      <td>2016-09-20 00:26:50</td>\n",
       "      <td>Amazing rally in Florida - this is a MOVEMENT!...</td>\n",
       "    </tr>\n",
       "    <tr>\n",
       "      <th>1</th>\n",
       "      <td>778025630956912640</td>\n",
       "      <td>2016-09-20 00:19:00</td>\n",
       "      <td>Together, we will MAKE AMERICA SAFE AND GREAT ...</td>\n",
       "    </tr>\n",
       "    <tr>\n",
       "      <th>2</th>\n",
       "      <td>778024608733749249</td>\n",
       "      <td>2016-09-20 00:14:56</td>\n",
       "      <td>I will be interviewed on the @oreillyfactor - ...</td>\n",
       "    </tr>\n",
       "    <tr>\n",
       "      <th>3</th>\n",
       "      <td>777958440211771392</td>\n",
       "      <td>2016-09-19 19:52:00</td>\n",
       "      <td>Philly FOP Chief On Presidential Endorsement: ...</td>\n",
       "    </tr>\n",
       "    <tr>\n",
       "      <th>4</th>\n",
       "      <td>777913567676866560</td>\n",
       "      <td>2016-09-19 16:53:42</td>\n",
       "      <td>Hillary Clinton's weakness while she was Secre...</td>\n",
       "    </tr>\n",
       "  </tbody>\n",
       "</table>\n",
       "</div>"
      ],
      "text/plain": [
       "                   id           created_at  \\\n",
       "0  778027605572329472  2016-09-20 00:26:50   \n",
       "1  778025630956912640  2016-09-20 00:19:00   \n",
       "2  778024608733749249  2016-09-20 00:14:56   \n",
       "3  777958440211771392  2016-09-19 19:52:00   \n",
       "4  777913567676866560  2016-09-19 16:53:42   \n",
       "\n",
       "                                                text  \n",
       "0  Amazing rally in Florida - this is a MOVEMENT!...  \n",
       "1  Together, we will MAKE AMERICA SAFE AND GREAT ...  \n",
       "2  I will be interviewed on the @oreillyfactor - ...  \n",
       "3  Philly FOP Chief On Presidential Endorsement: ...  \n",
       "4  Hillary Clinton's weakness while she was Secre...  "
      ]
     },
     "execution_count": 11,
     "metadata": {},
     "output_type": "execute_result"
    }
   ],
   "source": [
    "df = pd.read_csv('realDonaldTrump_tweets.csv')\n",
    "df.head()"
   ]
  },
  {
   "cell_type": "code",
   "execution_count": 12,
   "metadata": {
    "collapsed": false
   },
   "outputs": [
    {
     "data": {
      "text/plain": [
       "(3228, 3)"
      ]
     },
     "execution_count": 12,
     "metadata": {},
     "output_type": "execute_result"
    }
   ],
   "source": [
    "df.shape"
   ]
  },
  {
   "cell_type": "code",
   "execution_count": 13,
   "metadata": {
    "collapsed": false
   },
   "outputs": [
    {
     "name": "stdout",
     "output_type": "stream",
     "text": [
      "getting tweets before 776095570960248831\n",
      "...400 tweets downloaded so far\n",
      "getting tweets before 773130397232275457\n",
      "...600 tweets downloaded so far\n",
      "getting tweets before 768417267516399615\n",
      "...800 tweets downloaded so far\n",
      "getting tweets before 763796425037713407\n",
      "...999 tweets downloaded so far\n",
      "getting tweets before 759481506612047871\n",
      "...1199 tweets downloaded so far\n",
      "getting tweets before 758472237326434304\n",
      "...1399 tweets downloaded so far\n",
      "getting tweets before 757321383374417920\n",
      "...1599 tweets downloaded so far\n",
      "getting tweets before 755472393041305599\n",
      "...1799 tweets downloaded so far\n",
      "getting tweets before 751952082194751488\n",
      "...1999 tweets downloaded so far\n",
      "getting tweets before 747175708800188416\n",
      "...2199 tweets downloaded so far\n",
      "getting tweets before 742756232411418623\n",
      "...2399 tweets downloaded so far\n",
      "getting tweets before 738514669569249279\n",
      "...2599 tweets downloaded so far\n",
      "getting tweets before 732770791834701823\n",
      "...2799 tweets downloaded so far\n",
      "getting tweets before 726538652910686207\n",
      "...2999 tweets downloaded so far\n",
      "getting tweets before 721770041709051903\n",
      "...3199 tweets downloaded so far\n",
      "getting tweets before 717426240211300351\n",
      "...3208 tweets downloaded so far\n",
      "getting tweets before 717149644443230207\n",
      "...3208 tweets downloaded so far\n"
     ]
    }
   ],
   "source": [
    "get_all_tweets('HillaryClinton')"
   ]
  },
  {
   "cell_type": "code",
   "execution_count": 15,
   "metadata": {
    "collapsed": false
   },
   "outputs": [
    {
     "data": {
      "text/html": [
       "<div>\n",
       "<table border=\"1\" class=\"dataframe\">\n",
       "  <thead>\n",
       "    <tr style=\"text-align: right;\">\n",
       "      <th></th>\n",
       "      <th>id</th>\n",
       "      <th>created_at</th>\n",
       "      <th>text</th>\n",
       "    </tr>\n",
       "  </thead>\n",
       "  <tbody>\n",
       "    <tr>\n",
       "      <th>0</th>\n",
       "      <td>778023288761180160</td>\n",
       "      <td>2016-09-20 00:09:41</td>\n",
       "      <td>Nobody in America should have to forgo a highe...</td>\n",
       "    </tr>\n",
       "    <tr>\n",
       "      <th>1</th>\n",
       "      <td>778007963009179648</td>\n",
       "      <td>2016-09-19 23:08:47</td>\n",
       "      <td>Barack Obama said progress is on the ballot th...</td>\n",
       "    </tr>\n",
       "    <tr>\n",
       "      <th>2</th>\n",
       "      <td>777998343553290241</td>\n",
       "      <td>2016-09-19 22:30:34</td>\n",
       "      <td>America has never made progress by thinking on...</td>\n",
       "    </tr>\n",
       "    <tr>\n",
       "      <th>3</th>\n",
       "      <td>777980962877665284</td>\n",
       "      <td>2016-09-19 21:21:30</td>\n",
       "      <td>\"Everyone who wants to go to college should be...</td>\n",
       "    </tr>\n",
       "    <tr>\n",
       "      <th>4</th>\n",
       "      <td>777966037908221952</td>\n",
       "      <td>2016-09-19 20:22:12</td>\n",
       "      <td>Be a voter. Check your registration and help y...</td>\n",
       "    </tr>\n",
       "  </tbody>\n",
       "</table>\n",
       "</div>"
      ],
      "text/plain": [
       "                   id           created_at  \\\n",
       "0  778023288761180160  2016-09-20 00:09:41   \n",
       "1  778007963009179648  2016-09-19 23:08:47   \n",
       "2  777998343553290241  2016-09-19 22:30:34   \n",
       "3  777980962877665284  2016-09-19 21:21:30   \n",
       "4  777966037908221952  2016-09-19 20:22:12   \n",
       "\n",
       "                                                text  \n",
       "0  Nobody in America should have to forgo a highe...  \n",
       "1  Barack Obama said progress is on the ballot th...  \n",
       "2  America has never made progress by thinking on...  \n",
       "3  \"Everyone who wants to go to college should be...  \n",
       "4  Be a voter. Check your registration and help y...  "
      ]
     },
     "execution_count": 15,
     "metadata": {},
     "output_type": "execute_result"
    }
   ],
   "source": [
    "df2 = pd.read_csv('HillaryClinton_tweets.csv')\n",
    "df2.head()"
   ]
  },
  {
   "cell_type": "code",
   "execution_count": 26,
   "metadata": {
    "collapsed": true
   },
   "outputs": [],
   "source": [
    "import nltk\n",
    "from nltk.corpus import stopwords\n",
    "from nltk import word_tokenize, sent_tokenize\n",
    "stop_words = stopwords.words('english')"
   ]
  },
  {
   "cell_type": "markdown",
   "metadata": {},
   "source": [
    "### Trump's words"
   ]
  },
  {
   "cell_type": "code",
   "execution_count": 35,
   "metadata": {
    "collapsed": false
   },
   "outputs": [
    {
     "data": {
      "text/plain": [
       "373118"
      ]
     },
     "execution_count": 35,
     "metadata": {},
     "output_type": "execute_result"
    }
   ],
   "source": [
    "len(' '.join(df['text']))"
   ]
  },
  {
   "cell_type": "code",
   "execution_count": null,
   "metadata": {
    "collapsed": true
   },
   "outputs": [],
   "source": []
  }
 ],
 "metadata": {
  "kernelspec": {
   "display_name": "Python [Root]",
   "language": "python",
   "name": "Python [Root]"
  },
  "language_info": {
   "codemirror_mode": {
    "name": "ipython",
    "version": 2
   },
   "file_extension": ".py",
   "mimetype": "text/x-python",
   "name": "python",
   "nbconvert_exporter": "python",
   "pygments_lexer": "ipython2",
   "version": "2.7.12"
  }
 },
 "nbformat": 4,
 "nbformat_minor": 0
}
