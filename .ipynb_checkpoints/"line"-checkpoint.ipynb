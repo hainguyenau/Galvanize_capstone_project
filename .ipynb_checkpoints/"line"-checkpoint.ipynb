{
 "cells": [
  {
   "cell_type": "code",
   "execution_count": null,
   "metadata": {
    "collapsed": true
   },
   "outputs": [],
   "source": [
    "with open('new_train/line.cor') as f:\n",
    "    d = {'HARD1':[], 'HARD2':[], 'HARD3':[]}\n",
    "    \n",
    "    for line in f.readlines():\n",
    "        m = re.search(\"<s>(.*)<\\/s>\", line)\n",
    "        if m:\n",
    "            m2 = re.search(\"<tag \\\"(.*)\\\">(.*)<\\/>\", line)\n",
    "            if m2:\n",
    "                meaning = m2.group(1)\n",
    "                word = m2.group(2)\n",
    "                sentence = m.group(1)\n",
    "                sentence = sentence.replace('<s>', '')\n",
    "                sentence = sentence.replace('</s>', '')\n",
    "                sentence = sentence.replace('<p>', '')\n",
    "                sentence = sentence.replace('</p>', '')\n",
    "                sentence = sentence.replace('<@>', '')\n",
    "                sentence = sentence.replace(m2.group(0), '')\n",
    "                d[meaning].append(sentence)"
   ]
  },
  {
   "cell_type": "code",
   "execution_count": 1,
   "metadata": {
    "collapsed": true
   },
   "outputs": [],
   "source": [
    "import numpy as np"
   ]
  },
  {
   "cell_type": "code",
   "execution_count": 6,
   "metadata": {
    "collapsed": false
   },
   "outputs": [
    {
     "data": {
      "text/plain": [
       "array([1, 2, 3, 4, 5, 6])"
      ]
     },
     "execution_count": 6,
     "metadata": {},
     "output_type": "execute_result"
    }
   ],
   "source": [
    "x1 = np.array([1,2,3])\n",
    "x2 = np.array([4,5,6])\n",
    "x = [x1, x2]\n",
    "np.concatenate(x)"
   ]
  },
  {
   "cell_type": "code",
   "execution_count": null,
   "metadata": {
    "collapsed": true
   },
   "outputs": [],
   "source": [
    "sum(x1,)"
   ]
  }
 ],
 "metadata": {
  "kernelspec": {
   "display_name": "Python 2",
   "language": "python",
   "name": "python2"
  },
  "language_info": {
   "codemirror_mode": {
    "name": "ipython",
    "version": 2
   },
   "file_extension": ".py",
   "mimetype": "text/x-python",
   "name": "python",
   "nbconvert_exporter": "python",
   "pygments_lexer": "ipython2",
   "version": "2.7.12"
  }
 },
 "nbformat": 4,
 "nbformat_minor": 0
}
