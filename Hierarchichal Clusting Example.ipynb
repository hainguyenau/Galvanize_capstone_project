{
 "cells": [
  {
   "cell_type": "code",
   "execution_count": 11,
   "metadata": {
    "collapsed": true
   },
   "outputs": [],
   "source": [
    "import numpy as np\n",
    "from sklearn.cluster import MeanShift\n",
    "from sklearn.datasets.samples_generator import make_blobs\n",
    "import matplotlib.pyplot as plt\n",
    "%matplotlib inline"
   ]
  },
  {
   "cell_type": "code",
   "execution_count": 5,
   "metadata": {
    "collapsed": true
   },
   "outputs": [],
   "source": [
    "centers = [[1,1],[2,2]]\n",
    "X, _ = make_blobs(n_samples = 200, centers = centers, cluster_std = 1)"
   ]
  },
  {
   "cell_type": "code",
   "execution_count": 7,
   "metadata": {
    "collapsed": false
   },
   "outputs": [
    {
     "data": {
      "text/plain": [
       "<matplotlib.collections.PathCollection at 0x7f2609f49b90>"
      ]
     },
     "execution_count": 7,
     "metadata": {},
     "output_type": "execute_result"
    },
    {
     "data": {
      "image/png": "[encoded data removed]",
      "text/plain": [
       "<matplotlib.figure.Figure at 0x7f260c318950>"
      ]
     },
     "metadata": {},
     "output_type": "display_data"
    }
   ],
   "source": [
    "plt.scatter(X[:,0], X[:,1])"
   ]
  },
  {
   "cell_type": "code",
   "execution_count": 8,
   "metadata": {
    "collapsed": false,
    "scrolled": true
   },
   "outputs": [
    {
     "data": {
      "text/plain": [
       "array([[ 2.42825463,  1.83435613],\n",
       "       [ 1.71732975,  2.51836269],\n",
       "       [ 2.64115981,  4.5191    ],\n",
       "       [ 2.27043879,  0.49095647],\n",
       "       [ 0.31351929,  0.86430896],\n",
       "       [ 1.78088469,  1.69827028],\n",
       "       [ 2.77094782,  2.03695484],\n",
       "       [ 1.38973387, -0.28377229],\n",
       "       [ 0.34878062,  0.75868811],\n",
       "       [ 0.75050687,  0.87394868],\n",
       "       [-0.35260302,  1.41026519],\n",
       "       [ 4.38142718,  1.11013293],\n",
       "       [ 2.21890577,  1.85308014],\n",
       "       [ 1.60604118,  2.31262183],\n",
       "       [ 1.42167897,  1.36263849],\n",
       "       [ 1.05029531,  1.32063119],\n",
       "       [ 1.70440959,  1.57949358],\n",
       "       [ 1.51174411,  1.77637471],\n",
       "       [ 2.00562167,  1.73491879],\n",
       "       [ 2.1935451 ,  0.61541105],\n",
       "       [ 0.01773104,  1.08951806],\n",
       "       [ 1.12083251,  0.30681839],\n",
       "       [ 0.18222422,  0.83230718],\n",
       "       [ 2.76333906,  2.65318738],\n",
       "       [ 0.51185048,  0.67014065],\n",
       "       [ 1.31786858, -0.64843623],\n",
       "       [ 0.2475267 ,  2.66809678],\n",
       "       [ 0.23680628,  2.58801638],\n",
       "       [ 0.07030662,  1.88515415],\n",
       "       [ 2.78208944,  0.16966339],\n",
       "       [ 1.82853156,  0.98011672],\n",
       "       [ 1.34986084,  2.23955598],\n",
       "       [ 1.02166064,  1.88381599],\n",
       "       [-0.3360341 ,  2.13560463],\n",
       "       [ 2.2866005 ,  0.26673258],\n",
       "       [ 1.62649049,  1.45302008],\n",
       "       [ 1.66811   ,  1.3739447 ],\n",
       "       [ 0.81419126, -0.27994005],\n",
       "       [ 1.70909513,  1.9836444 ],\n",
       "       [ 2.21858278,  1.74365212],\n",
       "       [ 3.34294137,  1.83986129],\n",
       "       [-0.40149143,  1.76742973],\n",
       "       [ 4.03928546,  2.36777605],\n",
       "       [ 2.26577985,  1.53570383],\n",
       "       [-0.08714545,  2.34476516],\n",
       "       [ 1.26872486,  1.10278358],\n",
       "       [ 2.4582518 ,  2.88648365],\n",
       "       [ 1.47502318,  4.40349848],\n",
       "       [ 0.79739918,  1.15449983],\n",
       "       [ 1.94379485,  1.42033722],\n",
       "       [ 1.20005983,  0.11858935],\n",
       "       [ 1.44997236,  2.72929067],\n",
       "       [-1.61396204,  4.09344713],\n",
       "       [ 2.21609747,  2.15648827],\n",
       "       [ 2.88188744,  1.85740149],\n",
       "       [ 2.63967778,  1.85616459],\n",
       "       [ 0.78744574,  3.68696481],\n",
       "       [ 1.75060959,  1.45004705],\n",
       "       [ 0.38549057,  0.33591918],\n",
       "       [ 0.26808471,  0.17628995],\n",
       "       [-0.02210697,  1.78216215],\n",
       "       [ 1.57995512,  1.05585064],\n",
       "       [ 2.9071872 ,  4.36290343],\n",
       "       [ 0.69199434,  1.98703562],\n",
       "       [ 2.20713526,  0.81897141],\n",
       "       [ 2.02004123,  3.86261673],\n",
       "       [ 2.53194804,  2.90029451],\n",
       "       [ 2.08952649, -0.19704187],\n",
       "       [ 2.61267753,  2.51521288],\n",
       "       [ 2.28240494,  2.01297073],\n",
       "       [ 1.68575454,  0.34497175],\n",
       "       [ 4.87582466,  0.97265512],\n",
       "       [ 0.44122952, -0.6601089 ],\n",
       "       [ 0.2904434 ,  1.81594592],\n",
       "       [-0.70797574,  0.5501812 ],\n",
       "       [ 2.44919888,  2.63174973],\n",
       "       [ 2.30586129,  1.11751791],\n",
       "       [ 0.74528922,  2.68725115],\n",
       "       [ 0.41965521,  0.65766173],\n",
       "       [ 3.25697954, -0.12513878],\n",
       "       [ 0.65265101,  2.78484677],\n",
       "       [ 2.86087567,  2.16862754],\n",
       "       [ 0.33140983,  2.99256318],\n",
       "       [ 2.79473964,  2.7624532 ],\n",
       "       [-0.23977461,  1.48888613],\n",
       "       [ 2.44566809,  1.47768179],\n",
       "       [ 0.27823058,  0.65308011],\n",
       "       [ 0.77640428, -0.18865919],\n",
       "       [ 2.31887277,  0.46179936],\n",
       "       [-0.45968222,  2.57740789],\n",
       "       [ 0.26793291,  0.21107987],\n",
       "       [ 1.13266936,  1.05977285],\n",
       "       [ 1.22885973,  4.49232368],\n",
       "       [ 4.15446399,  0.14419172],\n",
       "       [ 1.04754333,  0.09658202],\n",
       "       [ 2.61770295,  2.18684333],\n",
       "       [ 0.80655274,  0.12751629],\n",
       "       [ 2.13745409,  2.45356087],\n",
       "       [ 1.30175697,  1.60193278],\n",
       "       [ 2.64780432,  2.26687185],\n",
       "       [ 2.34660876,  2.02905099],\n",
       "       [ 0.69520525,  0.6616642 ],\n",
       "       [ 1.32315886,  2.72253189],\n",
       "       [ 2.76239481,  3.54194686],\n",
       "       [ 2.00212817,  0.63494622],\n",
       "       [ 0.96476374,  1.40657262],\n",
       "       [ 2.17903619,  1.84166062],\n",
       "       [-0.84489457, -0.27542229],\n",
       "       [ 2.68183502,  2.18308358],\n",
       "       [ 0.14925732,  0.7885509 ],\n",
       "       [ 1.12017652,  0.63537007],\n",
       "       [ 3.24564401,  0.63257779],\n",
       "       [ 1.65025314,  2.60636479],\n",
       "       [ 2.01386392,  2.38166221],\n",
       "       [ 0.84622217,  1.57060647],\n",
       "       [ 2.41948584, -1.41227922],\n",
       "       [ 0.78228653, -0.53655134],\n",
       "       [ 3.15920823,  1.86659123],\n",
       "       [ 0.65136044,  2.36232498],\n",
       "       [ 4.15799602,  0.42811355],\n",
       "       [ 1.94768585,  2.14454249],\n",
       "       [ 1.58534623,  0.56847666],\n",
       "       [ 1.38278754,  2.04015294],\n",
       "       [ 0.19741154,  1.08913327],\n",
       "       [ 1.08630079,  1.94311099],\n",
       "       [ 1.8344634 ,  2.16748247],\n",
       "       [ 0.30763767,  1.07827667],\n",
       "       [ 1.4479377 ,  0.49771056],\n",
       "       [ 1.95309094,  0.43946544],\n",
       "       [ 1.69135803,  3.02183104],\n",
       "       [ 2.96717594,  2.12916114],\n",
       "       [ 1.06919019,  2.62208095],\n",
       "       [ 1.69457657,  0.42305834],\n",
       "       [ 2.36704764, -0.53240318],\n",
       "       [ 1.47980948,  3.98591862],\n",
       "       [ 1.85624134, -0.21345567],\n",
       "       [ 1.06780084,  0.38752297],\n",
       "       [ 1.94049685,  2.96170254],\n",
       "       [ 0.95927714,  1.45622864],\n",
       "       [ 0.89449115,  1.54638852],\n",
       "       [ 1.98553735,  3.42009473],\n",
       "       [ 1.52975587,  2.11480936],\n",
       "       [ 2.65316687,  0.91321931],\n",
       "       [ 0.30148924,  2.22805231],\n",
       "       [ 3.46886556,  1.6857447 ],\n",
       "       [ 2.4358185 ,  1.25121215],\n",
       "       [ 2.97216724,  1.39388018],\n",
       "       [-0.18819475, -1.29757447],\n",
       "       [ 1.98465979,  0.13260037],\n",
       "       [ 3.58145523,  3.05767201],\n",
       "       [ 1.20481949,  0.88113593],\n",
       "       [-0.30469761,  1.43228302],\n",
       "       [-1.32457851,  0.98710666],\n",
       "       [ 2.47651048,  2.7270663 ],\n",
       "       [ 2.36256238,  2.86155046],\n",
       "       [ 1.92537862,  2.78688895],\n",
       "       [ 0.24355505,  0.91410895],\n",
       "       [-0.92095505,  0.72508573],\n",
       "       [ 3.47670281,  1.55796279],\n",
       "       [-0.04134719,  4.02227929],\n",
       "       [ 0.93394923,  1.73114736],\n",
       "       [ 3.16289602,  1.08546712],\n",
       "       [ 0.10635087,  0.01471783],\n",
       "       [ 2.97504918,  2.98670742],\n",
       "       [ 0.91505971,  2.53027898],\n",
       "       [ 2.46429601, -0.54372735],\n",
       "       [ 0.2514786 ,  0.77611051],\n",
       "       [ 1.7941515 , -0.68040992],\n",
       "       [ 1.20451413, -0.19107027],\n",
       "       [ 1.73032233,  1.20333529],\n",
       "       [ 0.46350009,  0.66023984],\n",
       "       [ 0.17592899,  0.83327819],\n",
       "       [ 2.49404886,  2.8764008 ],\n",
       "       [ 0.88655026,  0.26804133],\n",
       "       [ 1.82996411,  3.67865398],\n",
       "       [ 0.25987604,  2.24993266],\n",
       "       [ 1.89646319,  3.23777781],\n",
       "       [ 0.6788686 ,  2.30560208],\n",
       "       [ 1.90614045,  1.3531971 ],\n",
       "       [ 2.34982568,  0.97920335],\n",
       "       [ 1.27179401,  0.73805264],\n",
       "       [ 1.96236753,  2.24200658],\n",
       "       [ 0.41851999,  1.15653849],\n",
       "       [ 1.01348588,  2.25260368],\n",
       "       [-0.21657776,  0.9199993 ],\n",
       "       [ 1.22860904,  2.1671179 ],\n",
       "       [ 1.32939685,  3.1313931 ],\n",
       "       [ 1.25715082, -0.43065929],\n",
       "       [ 0.1908149 ,  1.74255921],\n",
       "       [-1.05089238, -1.31783841],\n",
       "       [ 0.63622908,  3.66019017],\n",
       "       [ 2.07039716,  0.43601192],\n",
       "       [ 2.51050622,  1.04022756],\n",
       "       [ 1.71245932,  2.87328212],\n",
       "       [ 1.28277754,  0.70541355],\n",
       "       [ 1.98171557,  2.57956882],\n",
       "       [-0.21295079,  0.01777997],\n",
       "       [ 2.31187283,  0.8297961 ],\n",
       "       [ 2.46208715,  1.40269558],\n",
       "       [ 0.95611767,  0.20490445]])"
      ]
     },
     "execution_count": 8,
     "metadata": {},
     "output_type": "execute_result"
    }
   ],
   "source": [
    "X"
   ]
  },
  {
   "cell_type": "code",
   "execution_count": 12,
   "metadata": {
    "collapsed": false
   },
   "outputs": [],
   "source": [
    "ms = MeanShift()\n",
    "ms.fit(X)\n",
    "labels = ms.labels_\n",
    "cluster_centers = ms.cluster_centers_"
   ]
  },
  {
   "cell_type": "code",
   "execution_count": 14,
   "metadata": {
    "collapsed": false
   },
   "outputs": [
    {
     "data": {
      "text/plain": [
       "array([0, 0, 0, 0, 0, 0, 0, 0, 0, 0, 0, 0, 0, 0, 0, 0, 0, 0, 0, 0, 0, 0, 0,\n",
       "       0, 0, 0, 0, 0, 0, 0, 0, 0, 0, 0, 0, 0, 0, 0, 0, 0, 0, 0, 0, 0, 0, 0,\n",
       "       0, 0, 0, 0, 0, 0, 1, 0, 0, 0, 0, 0, 0, 0, 0, 0, 0, 0, 0, 0, 0, 0, 0,\n",
       "       0, 0, 0, 0, 0, 0, 0, 0, 0, 0, 0, 0, 0, 0, 0, 0, 0, 0, 0, 0, 1, 0, 0,\n",
       "       1, 0, 0, 0, 0, 0, 0, 0, 0, 0, 0, 0, 0, 0, 0, 0, 0, 0, 0, 0, 0, 0, 0,\n",
       "       0, 0, 0, 0, 0, 0, 0, 0, 0, 0, 0, 0, 0, 0, 0, 0, 0, 0, 0, 0, 0, 0, 0,\n",
       "       0, 0, 0, 0, 0, 0, 0, 0, 0, 0, 0, 0, 0, 0, 0, 0, 0, 0, 0, 0, 0, 1, 0,\n",
       "       0, 0, 0, 0, 0, 0, 0, 0, 0, 0, 0, 0, 0, 0, 0, 0, 0, 0, 0, 0, 0, 0, 0,\n",
       "       0, 0, 0, 0, 0, 0, 1, 0, 0, 0, 0, 0, 0, 0, 0, 0])"
      ]
     },
     "execution_count": 14,
     "metadata": {},
     "output_type": "execute_result"
    }
   ],
   "source": [
    "labels"
   ]
  },
  {
   "cell_type": "code",
   "execution_count": 18,
   "metadata": {
    "collapsed": false
   },
   "outputs": [
    {
     "data": {
      "text/plain": [
       "2"
      ]
     },
     "execution_count": 18,
     "metadata": {},
     "output_type": "execute_result"
    }
   ],
   "source": [
    "len(np.unique(labels))"
   ]
  }
 ],
 "metadata": {
  "kernelspec": {
   "display_name": "Python [Root]",
   "language": "python",
   "name": "Python [Root]"
  },
  "language_info": {
   "codemirror_mode": {
    "name": "ipython",
    "version": 2
   },
   "file_extension": ".py",
   "mimetype": "text/x-python",
   "name": "python",
   "nbconvert_exporter": "python",
   "pygments_lexer": "ipython2",
   "version": "2.7.12"
  }
 },
 "nbformat": 4,
 "nbformat_minor": 0
}
