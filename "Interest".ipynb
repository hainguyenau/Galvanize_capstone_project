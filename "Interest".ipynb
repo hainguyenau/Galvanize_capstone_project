{
 "cells": [
  {
   "cell_type": "code",
   "execution_count": 1,
   "metadata": {
    "collapsed": true
   },
   "outputs": [],
   "source": [
    "import numpy as np\n",
    "import pandas as pd\n",
    "import re\n",
    "from sklearn.feature_extraction.text import TfidfVectorizer\n",
    "from sklearn.preprocessing import MaxAbsScaler, MinMaxScaler, Normalizer"
   ]
  },
  {
   "cell_type": "code",
   "execution_count": null,
   "metadata": {
    "collapsed": true
   },
   "outputs": [],
   "source": [
    "with open('new_train/interest.cor') as f:\n",
    "    d = {'HARD1':[], 'HARD2':[], 'HARD3':[]}\n",
    "    \n",
    "    for line in f.readlines():\n",
    "        m = re.search(\"<s>(.*)<\\/s>\", line)\n",
    "        if m:\n",
    "            m2 = re.search(\"<tag \\\"(.*)\\\">(.*)<\\/>\", line)\n",
    "            if m2:\n",
    "                meaning = m2.group(1)\n",
    "                word = m2.group(2)\n",
    "                sentence = m.group(1)\n",
    "                sentence = sentence.replace(m2.group(0), '')\n",
    "                d[meaning].append(sentence)"
   ]
  }
 ],
 "metadata": {
  "kernelspec": {
   "display_name": "Python [Root]",
   "language": "python",
   "name": "Python [Root]"
  },
  "language_info": {
   "codemirror_mode": {
    "name": "ipython",
    "version": 2
   },
   "file_extension": ".py",
   "mimetype": "text/x-python",
   "name": "python",
   "nbconvert_exporter": "python",
   "pygments_lexer": "ipython2",
   "version": "2.7.12"
  }
 },
 "nbformat": 4,
 "nbformat_minor": 0
}
